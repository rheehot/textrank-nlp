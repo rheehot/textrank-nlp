{
 "cells": [
  {
   "cell_type": "code",
   "execution_count": 1,
   "metadata": {
    "collapsed": true,
    "pycharm": {
     "is_executing": false
    }
   },
   "outputs": [],
   "source": [
    "from torchtext.data import TabularDataset, Field, RawField\n",
    "from tqdm import tqdm_notebook as tqdm\n",
    "from src.keyword.data.token import get_token, find_stem_answer\n",
    "from src.keyword.data.graph_util import build_graph, normalize_graph\n",
    "\n",
    "import re"
   ]
  },
  {
   "cell_type": "code",
   "execution_count": 2,
   "outputs": [
    {
     "name": "stderr",
     "text": [
      "/Users/judepark/Documents/paper_projects/text_rank/venv/lib/python3.7/site-packages/torchtext/data/field.py:150: UserWarning: Field class will be retired in the 0.8.0 release and moved to torchtext.legacy. Please see 0.7.0 release notes for further information.\n",
      "  warnings.warn('{} class will be retired in the 0.8.0 release and moved to torchtext.legacy. Please see 0.7.0 release notes for further information.'.format(self.__class__.__name__), UserWarning)\n",
      "/Users/judepark/Documents/paper_projects/text_rank/venv/lib/python3.7/site-packages/torchtext/data/example.py:13: UserWarning: Example class will be retired in the 0.8.0 release and moved to torchtext.legacy. Please see 0.7.0 release notes for further information.\n",
      "  warnings.warn('Example class will be retired in the 0.8.0 release and moved to torchtext.legacy. Please see 0.7.0 release notes for further information.', UserWarning)\n"
     ],
     "output_type": "stream"
    }
   ],
   "source": [
    "dataset = TabularDataset(path='../rsc/kp20k/kp20k_training.json',\n",
    "                             format='json',\n",
    "                             fields={'abstract': ('abstract', Field(sequential=True)),\n",
    "                                     'keyword': ('keyword', Field(sequential=False))})"
   ],
   "metadata": {
    "collapsed": false,
    "pycharm": {
     "name": "#%%\n",
     "is_executing": false
    }
   }
  },
  {
   "cell_type": "code",
   "execution_count": 3,
   "outputs": [
    {
     "name": "stderr",
     "text": [
      "/Users/judepark/Documents/paper_projects/text_rank/venv/lib/python3.7/site-packages/ipykernel_launcher.py:1: TqdmDeprecationWarning: This function will be removed in tqdm==5.0.0\n",
      "Please use `tqdm.notebook.tqdm` instead of `tqdm.tqdm_notebook`\n",
      "  \"\"\"Entry point for launching an IPython kernel.\n"
     ],
     "output_type": "stream"
    },
    {
     "data": {
      "text/plain": "HBox(children=(FloatProgress(value=0.0, max=530809.0), HTML(value='')))",
      "application/vnd.jupyter.widget-view+json": {
       "version_major": 2,
       "version_minor": 0,
       "model_id": "e4f15e2dce5c4d1eab42f1142f3f9715"
      }
     },
     "metadata": {},
     "output_type": "display_data"
    },
    {
     "name": "stdout",
     "text": [
      "telepresence;animation;avatars;application sharing;collaborative virtual environments\n",
      "['This', 'paper', 'proposes', 'using', 'virtual', 'reality', 'to', 'enhance', 'the', 'perception', 'of', 'actions', 'by', 'distant', 'users', 'on', 'a', 'shared', 'application.', 'Here,', 'distance', 'may', 'refer', 'either', 'to', 'space', '(', 'e.g.', 'in', 'a', 'remote', 'synchronous', 'collaboration)', 'or', 'time', '(', 'e.g.', 'during', 'playback', 'of', 'recorded', 'actions).', 'Our', 'approach', 'consists', 'in', 'immersing', 'the', 'application', 'in', 'a', 'virtual', 'inhabited', '3D', 'space', 'and', 'mimicking', 'user', 'actions', 'by', 'animating', 'avatars.', 'We', 'illustrate', 'this', 'approach', 'with', 'two', 'applications,', 'the', 'one', 'for', 'remote', 'collaboration', 'on', 'a', 'shared', 'application', 'and', 'the', 'other', 'to', 'playback', 'recorded', 'sequences', 'of', 'user', 'actions.', 'We', 'suggest', 'this', 'could', 'be', 'a', 'low', 'cost', 'enhancement', 'for', 'telepresence.']\n",
      "\n"
     ],
     "output_type": "stream"
    }
   ],
   "source": [
    "for d in tqdm(dataset):\n",
    "    print(d.keyword)\n",
    "    print(d.abstract)\n",
    "    break"
   ],
   "metadata": {
    "collapsed": false,
    "pycharm": {
     "name": "#%%\n",
     "is_executing": false
    }
   }
  },
  {
   "cell_type": "code",
   "execution_count": 4,
   "outputs": [],
   "source": [
    "def build_dataset(\n",
    "        dataset, \n",
    "        max_src_seq_len: int,\n",
    "        max_trg_seq_len: int,\n",
    "        lower:bool = True, \n",
    "        valid_check:bool = True):\n",
    "    \n",
    "    null_ids, absent_ids = 0, 0\n",
    "    \n",
    "    SRC = RawField(postprocessing=None)\n",
    "    TRG = RawField(postprocessing=None)\n",
    "    \n",
    "    for d in tqdm(dataset):\n",
    "        abstract = ' '.join(d.abstract)\n",
    "        keyword = d.keyword.split(';')\n",
    "        \n",
    "        src_filter_flag = False\n",
    "        src_tokens = get_token(abstract)\n",
    "\n",
    "        # max_seq_len 을 충족하지 못하면 넘긴다.\n",
    "        if len(src_tokens) > max_src_seq_len:\n",
    "            src_filter_flag = True\n",
    "\n",
    "        if valid_check and src_filter_flag:\n",
    "            continue\n",
    "\n",
    "        trgs_tokens = []\n",
    "\n",
    "        for trg in keyword:\n",
    "            trg_filter_flag = False\n",
    "            trg = trg.lower()\n",
    "\n",
    "            # FILTER 1: remove all the abbreviations/acronyms in parentheses in keyphrases\n",
    "            trg = re.sub(r'\\(.*?\\)', '', trg)\n",
    "            trg = re.sub(r'\\[.*?\\]', '', trg)\n",
    "            trg = re.sub(r'\\{.*?\\}', '', trg)\n",
    "\n",
    "            # FILTER 2: ingore all the phrases that contains strange punctuations, very DIRTY data!\n",
    "            puncts = re.findall(r'[,_\\\"<>\\(\\){}\\[\\]\\?~`!@$%\\^=]', trg)\n",
    "\n",
    "            trg_tokens = get_token(trg)\n",
    "\n",
    "            if len(puncts) > 0:\n",
    "                continue\n",
    "\n",
    "            if len(trg_tokens) > max_trg_seq_len:\n",
    "                trg_filter_flag = True\n",
    "\n",
    "            if valid_check and trg_filter_flag:\n",
    "                continue\n",
    "\n",
    "            if valid_check and (len(trg_tokens) > 0 and re.match(r'\\d\\d[a-zA-Z\\-]\\d\\d',\n",
    "                                                                 trg_tokens[0].strip())) or (\n",
    "                    len(trg_tokens) > 1 and re.match(r'\\d\\d\\w\\d\\d', trg_tokens[1].strip())):\n",
    "                continue\n",
    "\n",
    "            trgs_tokens.append(trg_tokens)\n",
    "\n",
    "        if valid_check and len(trgs_tokens) == 0:\n",
    "            continue\n",
    "\n",
    "        if lower:\n",
    "            src_tokens = [token.lower() for token in src_tokens]\n",
    "\n",
    "        present_phrases = find_stem_answer(word_list=src_tokens, ans_list=trgs_tokens)\n",
    "\n",
    "        if present_phrases is None:\n",
    "            null_ids += 1\n",
    "            continue\n",
    "\n",
    "        if len(present_phrases['keyphrases']) != len(trgs_tokens):\n",
    "            absent_ids += 1\n",
    "\n",
    "        d.src = ' '.join(src_tokens)\n",
    "        d.trg = present_phrases['keyphrases']\n",
    "    \n",
    "    dataset.fields['src'] = SRC\n",
    "    dataset.fields['trg'] = TRG\n",
    "    \n",
    "    return dataset"
   ],
   "metadata": {
    "collapsed": false,
    "pycharm": {
     "name": "#%%\n",
     "is_executing": false
    }
   }
  },
  {
   "cell_type": "code",
   "execution_count": null,
   "outputs": [
    {
     "name": "stderr",
     "text": [
      "/Users/judepark/Documents/paper_projects/text_rank/venv/lib/python3.7/site-packages/torchtext/data/field.py:36: UserWarning: RawField class will be retired in the 0.8.0 release and moved to torchtext.legacy. Please see 0.7.0 release notes for further information.\n",
      "  warnings.warn('{} class will be retired in the 0.8.0 release and moved to torchtext.legacy. Please see 0.7.0 release notes for further information.'.format(self.__class__.__name__), UserWarning)\n",
      "/Users/judepark/Documents/paper_projects/text_rank/venv/lib/python3.7/site-packages/ipykernel_launcher.py:13: TqdmDeprecationWarning: This function will be removed in tqdm==5.0.0\n",
      "Please use `tqdm.notebook.tqdm` instead of `tqdm.tqdm_notebook`\n",
      "  del sys.path[0]\n"
     ],
     "output_type": "stream"
    },
    {
     "data": {
      "text/plain": "HBox(children=(FloatProgress(value=0.0, max=530809.0), HTML(value='')))",
      "application/vnd.jupyter.widget-view+json": {
       "version_major": 2,
       "version_minor": 0,
       "model_id": "6b54fe3fc8404a57916399bfc34d0dbd"
      }
     },
     "metadata": {},
     "output_type": "display_data"
    },
    {
     "name": "stdout",
     "text": [
      "\n"
     ],
     "output_type": "stream"
    }
   ],
   "source": [
    "train_dataset = build_dataset(dataset, 512, 5, True, True)"
   ],
   "metadata": {
    "collapsed": false,
    "pycharm": {
     "name": "#%%\n",
     "is_executing": true
    }
   }
  },
  {
   "cell_type": "code",
   "execution_count": null,
   "outputs": [],
   "source": [
    "import torch\n",
    "\n",
    "\n",
    "torch.save(list(train_dataset), \"./train_data_not_have_graph.pt\")\n",
    "\n",
    "# def build_graph_dataset(dataset):\n",
    "#     pass"
   ],
   "metadata": {
    "collapsed": false,
    "pycharm": {
     "name": "#%%\n",
     "is_executing": true
    }
   }
  },
  {
   "cell_type": "code",
   "execution_count": null,
   "outputs": [],
   "source": [
    "\n"
   ],
   "metadata": {
    "collapsed": false,
    "pycharm": {
     "name": "#%%\n"
    }
   }
  }
 ],
 "metadata": {
  "kernelspec": {
   "display_name": "Python 3",
   "language": "python",
   "name": "python3"
  },
  "language_info": {
   "codemirror_mode": {
    "name": "ipython",
    "version": 2
   },
   "file_extension": ".py",
   "mimetype": "text/x-python",
   "name": "python",
   "nbconvert_exporter": "python",
   "pygments_lexer": "ipython2",
   "version": "2.7.6"
  },
  "pycharm": {
   "stem_cell": {
    "cell_type": "raw",
    "source": [],
    "metadata": {
     "collapsed": false
    }
   }
  }
 },
 "nbformat": 4,
 "nbformat_minor": 0
}